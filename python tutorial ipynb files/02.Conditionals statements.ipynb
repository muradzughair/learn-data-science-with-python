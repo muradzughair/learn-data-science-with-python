{
 "cells": [
  {
   "cell_type": "markdown",
   "id": "f79270f2",
   "metadata": {},
   "source": [
    "# Python Conditional Statements"
   ]
  },
  {
   "cell_type": "markdown",
   "id": "48b66269",
   "metadata": {},
   "source": [
    "## 🔸 a) `if` Structure"
   ]
  },
  {
   "cell_type": "code",
   "execution_count": null,
   "id": "4de474a1",
   "metadata": {},
   "outputs": [],
   "source": [
    "x = -5\n",
    "\n",
    "if x < 0:\n",
    "    print(\"It's negative\")"
   ]
  },
  {
   "cell_type": "markdown",
   "id": "d532184e",
   "metadata": {},
   "source": [
    "## 🔸 b) Ternary Expressions (else if and else)"
   ]
  },
  {
   "cell_type": "code",
   "execution_count": null,
   "id": "487272c5",
   "metadata": {},
   "outputs": [],
   "source": [
    "# Ternary expressions and nested Ternary expression (if-elif-else) structure:\n",
    "if x > 0:\n",
    "    print('Positive')\n",
    "elif x == 0:\n",
    "    print('Zero')\n",
    "else:\n",
    "    print('Error')\n"
   ]
  },
  {
   "cell_type": "markdown",
   "id": "84aee6fc",
   "metadata": {},
   "source": [
    "## 🔸 c) One line if stamtment "
   ]
  },
  {
   "cell_type": "code",
   "execution_count": null,
   "id": "eac2bd8c",
   "metadata": {},
   "outputs": [],
   "source": [
    "# One-line ternary\n",
    "value = 'Non-negative' if y == 1 else 'Negative'\n",
    "print(value)\n",
    "# Nested ternary\n",
    "choice = input(\"Say something: \")\n",
    "value = \"hi\" if choice == \"hi\" else (\"no\" if choice == \"nah\" else \"bye\")\n",
    "print(value)"
   ]
  }
 ],
 "metadata": {
  "language_info": {
   "name": "python"
  }
 },
 "nbformat": 4,
 "nbformat_minor": 5
}
