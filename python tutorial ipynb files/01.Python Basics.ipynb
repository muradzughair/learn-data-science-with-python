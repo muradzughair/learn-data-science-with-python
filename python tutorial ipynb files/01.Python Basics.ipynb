{
 "cells": [
  {
   "cell_type": "markdown",
   "id": "1ac87b29",
   "metadata": {},
   "source": [
    "# 🐍 Python Basics Cheat Sheet"
   ]
  },
  {
   "cell_type": "markdown",
   "id": "34119cba",
   "metadata": {},
   "source": [
    "## 1. Variables and `print()` Statement"
   ]
  },
  {
   "cell_type": "markdown",
   "id": "66c1f291",
   "metadata": {},
   "source": [
    "### 🔸 a) Variables"
   ]
  },
  {
   "cell_type": "code",
   "execution_count": null,
   "id": "aa87a9bd",
   "metadata": {},
   "outputs": [],
   "source": [
    "# Creating variables in Python (no need to declare data types explicitly)\n",
    "age = 19         # int\n",
    "name = 'Murad'   # str\n",
    "avg = 4.2        # float\n",
    "\n",
    "# Using type() to display the variable's data type\n",
    "print(type(age))   # <class 'int'>\n",
    "print(type(name))  # <class 'str'>\n",
    "print(type(avg))   # <class 'float'>\n",
    "\n",
    "# Variables can be reassigned without error\n",
    "a = 23\n",
    "a = 45\n",
    "print(a)  # Output: 45\n",
    "\n",
    "# TypeError: you cannot add a string and an integer directly\n",
    "# a = 1 + '1'  # This will raise an error"
   ]
  },
  {
   "cell_type": "markdown",
   "id": "352277b1",
   "metadata": {},
   "source": [
    "### 🔸 b) `print()` Statement"
   ]
  },
  {
   "cell_type": "code",
   "execution_count": null,
   "id": "838ae049",
   "metadata": {},
   "outputs": [],
   "source": [
    "# 1. Using '+' requires explicit type conversion and does not insert spaces\n",
    "print('My name is ' + name + ' and I am ' + str(age) + ' years old.')\n",
    "\n",
    "# 2. Using ',' automatically adds spaces and handles type conversion\n",
    "print('My name is', name, 'and I am', age, 'years old.')\n",
    "\n",
    "# 3. Using f-strings allows easy inline formatting\n",
    "print(f\"My name is {name} and I am {age} years old.\")\n",
    "\n",
    "# Preventing newline at the end of print\n",
    "print('Hello', end='')"
   ]
  },
  {
   "cell_type": "markdown",
   "id": "e7852dae",
   "metadata": {},
   "source": [
    "## 2. Math in Python"
   ]
  },
  {
   "cell_type": "markdown",
   "id": "a75ad64e",
   "metadata": {},
   "source": [
    "### 🔸 a) Arithmetic Operations"
   ]
  },
  {
   "cell_type": "code",
   "execution_count": null,
   "id": "5ab156cd",
   "metadata": {},
   "outputs": [],
   "source": [
    "a = 5\n",
    "b = 2\n",
    "result = a / b      # Division always returns a float (2.5)\n",
    "print(result)\n",
    "\n",
    "# Floor division returns the integer part of the result\n",
    "print(7 // 3)       # Output: 2"
   ]
  },
  {
   "cell_type": "markdown",
   "id": "9a4598f9",
   "metadata": {},
   "source": [
    "### 🔸 b) Logical Operators"
   ]
  },
  {
   "cell_type": "code",
   "execution_count": null,
   "id": "5e8499f1",
   "metadata": {},
   "outputs": [],
   "source": [
    "# Logical AND\n",
    "print(10 > 0 and 5 > 0)  # True\n",
    "\n",
    "# Logical OR\n",
    "print(-3 > 0 or 7 > 0)   # True\n",
    "\n",
    "# Logical NOT\n",
    "x = False\n",
    "print(not x)             # True"
   ]
  },
  {
   "cell_type": "markdown",
   "id": "38473ae1",
   "metadata": {},
   "source": [
    "### 🔸 c) Comparison Operators"
   ]
  },
  {
   "cell_type": "code",
   "execution_count": null,
   "id": "add7c77e",
   "metadata": {},
   "outputs": [],
   "source": [
    "# Chained comparisons\n",
    "result = 10 > 5 and 10 < 20\n",
    "result = 20 > 10 > 5     # Valid and returns True"
   ]
  },
  {
   "cell_type": "markdown",
   "id": "eda81b7b",
   "metadata": {},
   "source": [
    "### 🔸 d) Arithmetic Assignment Operators"
   ]
  },
  {
   "cell_type": "code",
   "execution_count": null,
   "id": "0164748d",
   "metadata": {},
   "outputs": [],
   "source": [
    "friends = 10\n",
    "friends = friends + 2\n",
    "friends += 2\n",
    "\n",
    "friends = friends - 2\n",
    "friends -= 2\n",
    "\n",
    "friends = friends * 2\n",
    "friends *= 2\n",
    "\n",
    "friends = friends / 2\n",
    "friends /= 2\n",
    "\n",
    "friends = friends ** 2   # Exponentiation\n",
    "friends **= 2\n",
    "\n",
    "friends = friends % 2    # Modulo"
   ]
  },
  {
   "cell_type": "markdown",
   "id": "e0ed0497",
   "metadata": {},
   "source": [
    "### 🔸 e) Built-in Math Functions"
   ]
  },
  {
   "cell_type": "code",
   "execution_count": null,
   "id": "aae83dfc",
   "metadata": {},
   "outputs": [],
   "source": [
    "a = -7\n",
    "x = 3.14\n",
    "y = 4\n",
    "z = 5\n",
    "\n",
    "print(round(x))        # 3 — Rounds to nearest integer\n",
    "print(abs(a))          # 7 — Absolute value\n",
    "print(pow(2, 3))       # 8 — 2 to the power of 3\n",
    "print(max(x, y, z))    # 5 — Maximum value\n",
    "print(min(x, y, z))    # 3.14 — Minimum value"
   ]
  },
  {
   "cell_type": "markdown",
   "id": "006c5161",
   "metadata": {},
   "source": [
    "### 🔸 f) Math Module"
   ]
  },
  {
   "cell_type": "code",
   "execution_count": null,
   "id": "2beecf5f",
   "metadata": {},
   "outputs": [],
   "source": [
    "import math\n",
    "x = 9\n",
    "\n",
    "# Constants and common functions from math\n",
    "print(math.pi)         # π = 3.14159...\n",
    "print(math.e)          # e = 2.71828...\n",
    "print(math.sqrt(x))    # Square root\n",
    "print(math.ceil(x))    # Rounds up\n",
    "print(math.floor(x))   # Rounds down"
   ]
  },
  {
   "cell_type": "markdown",
   "id": "5161921d",
   "metadata": {},
   "source": [
    "## 3. Type Casting"
   ]
  },
  {
   "cell_type": "code",
   "execution_count": null,
   "id": "047baed3",
   "metadata": {},
   "outputs": [],
   "source": [
    "# Type casting = converting one data type into another\n",
    "\n",
    "name = \"Bro\"\n",
    "age = 21\n",
    "gpa = 1.9\n",
    "student = True\n",
    "\n",
    "age = float(age)\n",
    "print(type(age))       # <class 'float'>\n",
    "\n",
    "gpa = int(gpa)\n",
    "print(type(gpa))       # <class 'int'>\n",
    "\n",
    "student = str(student)\n",
    "print(type(student))   # <class 'str'>\n",
    "\n",
    "name = bool(name)\n",
    "print(type(name))      # <class 'bool'>"
   ]
  },
  {
   "cell_type": "markdown",
   "id": "6d6908a8",
   "metadata": {},
   "source": [
    "## 4. User Input"
   ]
  },
  {
   "cell_type": "markdown",
   "id": "fd83639b",
   "metadata": {},
   "source": [
    "IN Python, `input()` function is used to take user input.\n",
    "The input is always returned as a string, so you may need to convert it to the desired type.\n",
    "Let's see some exercises to practice user input."
   ]
  },
  {
   "cell_type": "markdown",
   "id": "f8317da1",
   "metadata": {},
   "source": [
    "### 🧪 Exercise 1: Mad Libs"
   ]
  },
  {
   "cell_type": "code",
   "execution_count": null,
   "id": "39337ebe",
   "metadata": {},
   "outputs": [],
   "source": [
    "adjective1 = input(\"Enter an adjective: \")\n",
    "noun = input(\"Enter a noun: \")\n",
    "adjective2 = input(\"Enter an adjective: \")\n",
    "verb = input(\"Enter a verb: \")\n",
    "adjective3 = input(\"Enter an adjective: \")\n",
    "\n",
    "print(f\"Today I went to a {adjective1} zoo.\")\n",
    "print(f\"In an exhibit, I saw {noun}.\")\n",
    "print(f\"{noun} was {adjective2} and {verb}ing.\")\n",
    "print(f\"I was {adjective3}!\")"
   ]
  },
  {
   "cell_type": "markdown",
   "id": "868e21dc",
   "metadata": {},
   "source": [
    "### 📐 Exercise 2: Area Calculator"
   ]
  },
  {
   "cell_type": "code",
   "execution_count": null,
   "id": "2c340e25",
   "metadata": {},
   "outputs": [],
   "source": [
    "length = float(input(\"Enter the length: \"))\n",
    "width = float(input(\"Enter the width: \"))\n",
    "area = length * width\n",
    "print(f\"The area is: {area} cm²\")"
   ]
  },
  {
   "cell_type": "markdown",
   "id": "e06d1cb2",
   "metadata": {},
   "source": [
    "### 🛒 Exercise 3: Shopping Cart"
   ]
  },
  {
   "cell_type": "code",
   "execution_count": null,
   "id": "1acb060e",
   "metadata": {},
   "outputs": [],
   "source": [
    "item = input(\"What item would you like to buy?: \")\n",
    "price = float(input(\"What is the price?: \"))\n",
    "quantity = int(input(\"How many would you like?: \"))\n",
    "total = price * quantity\n",
    "\n",
    "print(f\"You have bought {quantity} x {item}(s)\")\n",
    "print(f\"Your total is: ${round(total, 2)}\")"
   ]
  }
 ],
 "metadata": {
  "language_info": {
   "name": "python"
  }
 },
 "nbformat": 4,
 "nbformat_minor": 5
}
