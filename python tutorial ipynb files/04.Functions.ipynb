{
 "cells": [
  {
   "cell_type": "markdown",
   "id": "602d9fed",
   "metadata": {},
   "source": [
    "# Functions In Python"
   ]
  },
  {
   "cell_type": "markdown",
   "id": "54737f60",
   "metadata": {},
   "source": [
    "## a) Functions syntax"
   ]
  },
  {
   "cell_type": "code",
   "execution_count": 15,
   "id": "e545dfaa",
   "metadata": {},
   "outputs": [],
   "source": [
    "def My_function(x,y):\n",
    "    return (x / y)"
   ]
  },
  {
   "cell_type": "markdown",
   "id": "54258f83",
   "metadata": {},
   "source": [
    "also in functions you can put default value for parameters in case the user dont enter one \n"
   ]
  },
  {
   "cell_type": "code",
   "execution_count": 16,
   "id": "f087a7fa",
   "metadata": {},
   "outputs": [],
   "source": [
    "def sum_func(x,y=1):\n",
    "    return x/y"
   ]
  },
  {
   "cell_type": "markdown",
   "id": "6897192c",
   "metadata": {},
   "source": [
    "here how you call a function:"
   ]
  },
  {
   "cell_type": "code",
   "execution_count": 17,
   "id": "823bd0e5",
   "metadata": {},
   "outputs": [
    {
     "name": "stdout",
     "output_type": "stream",
     "text": [
      "5.0\n",
      "10.0\n"
     ]
    }
   ],
   "source": [
    "print(My_function(10,2))\n",
    "print(sum_func(10))\n"
   ]
  },
  {
   "cell_type": "markdown",
   "id": "0ec37083",
   "metadata": {},
   "source": [
    "in python you can put the parameters where you want like this:"
   ]
  },
  {
   "cell_type": "code",
   "execution_count": 18,
   "id": "22505c8b",
   "metadata": {},
   "outputs": [
    {
     "name": "stdout",
     "output_type": "stream",
     "text": [
      "5.0\n"
     ]
    }
   ],
   "source": [
    "print(My_function(y=2,x=10))"
   ]
  },
  {
   "cell_type": "markdown",
   "id": "d0f9b666",
   "metadata": {},
   "source": [
    "python functions give you a ability to return multiple values:\n"
   ]
  },
  {
   "cell_type": "code",
   "execution_count": 19,
   "id": "78a37a99",
   "metadata": {},
   "outputs": [],
   "source": [
    "def f():\n",
    "    a = 5\n",
    "    b = 6\n",
    "    c = 7\n",
    "    return a, b, c\n"
   ]
  },
  {
   "cell_type": "markdown",
   "id": "62fe8b37",
   "metadata": {},
   "source": [
    "## Lambda funtions"
   ]
  },
  {
   "cell_type": "code",
   "execution_count": 20,
   "id": "b3af833d",
   "metadata": {},
   "outputs": [
    {
     "name": "stdout",
     "output_type": "stream",
     "text": [
      "posetive\n",
      "None\n"
     ]
    }
   ],
   "source": [
    "check=lambda x: 'negative' if x<0 else('posetive' if x>0 else'0')\n",
    "print(check(10))\n",
    "\n",
    "x = lambda a, b : a * b if (a < 0) else None\n",
    "print(x(5, 6))"
   ]
  }
 ],
 "metadata": {
  "kernelspec": {
   "display_name": "Python 3",
   "language": "python",
   "name": "python3"
  },
  "language_info": {
   "codemirror_mode": {
    "name": "ipython",
    "version": 3
   },
   "file_extension": ".py",
   "mimetype": "text/x-python",
   "name": "python",
   "nbconvert_exporter": "python",
   "pygments_lexer": "ipython3",
   "version": "3.12.4"
  }
 },
 "nbformat": 4,
 "nbformat_minor": 5
}
