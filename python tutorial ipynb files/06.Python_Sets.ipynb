{
 "cells": [
  {
   "cell_type": "markdown",
   "id": "61cd84ed",
   "metadata": {},
   "source": [
    "# Sets"
   ]
  },
  {
   "cell_type": "markdown",
   "id": "61782b46",
   "metadata": {},
   "source": [
    "1) Sets are unordered collections of unique elements.\n",
    "\n",
    "2) They do not allow duplicates.\n",
    "\n",
    "3) Sets are mutable (you can add or remove elements, but not change them directly).\n",
    "\n",
    "Use sets when you want to remove duplicates or do mathematical set operations (union, intersection, difference).\n",
    "\n",
    "When to use: When you need a collection of unique items and don’t care about order and you want to use sets operation like (and, or, not ).\n",
    "\n",
    "Real-life scenario: system to see the matual friends between two people."
   ]
  },
  {
   "cell_type": "markdown",
   "id": "172b7ae7",
   "metadata": {},
   "source": [
    "# A) Creating Sets"
   ]
  },
  {
   "cell_type": "markdown",
   "id": "d394a35f",
   "metadata": {},
   "source": [
    "There is two ways to create sets\n"
   ]
  },
  {
   "cell_type": "markdown",
   "id": "69d470c1",
   "metadata": {},
   "source": [
    "First one : "
   ]
  },
  {
   "cell_type": "code",
   "execution_count": 2,
   "id": "efa558cb",
   "metadata": {},
   "outputs": [
    {
     "name": "stdout",
     "output_type": "stream",
     "text": [
      "{3, 5, 6, 7, 9, 11}\n"
     ]
    }
   ],
   "source": [
    "a = {3, 5,6,7,9, 11}\n",
    "print(a)"
   ]
  },
  {
   "cell_type": "markdown",
   "id": "bc73c6e1",
   "metadata": {},
   "source": [
    "Second one:"
   ]
  },
  {
   "cell_type": "code",
   "execution_count": 3,
   "id": "56dccea7",
   "metadata": {},
   "outputs": [
    {
     "name": "stdout",
     "output_type": "stream",
     "text": [
      "set()\n",
      "(1, 3, 5)\n"
     ]
    }
   ],
   "source": [
    "Empty_set = set()\n",
    "print(Empty_set)\n",
    "\n",
    "Empty_set = 1,3,5\n",
    "print(Empty_set)"
   ]
  },
  {
   "cell_type": "markdown",
   "id": "3b0a7970",
   "metadata": {},
   "source": [
    "# B) Adding Elements"
   ]
  },
  {
   "cell_type": "code",
   "execution_count": 4,
   "id": "e563c975",
   "metadata": {},
   "outputs": [
    {
     "name": "stdout",
     "output_type": "stream",
     "text": [
      "{2, 5, 6, 7}\n"
     ]
    }
   ],
   "source": [
    "a={5,6,7,2,7}\n",
    "print(a)"
   ]
  },
  {
   "cell_type": "markdown",
   "id": "0907aa28",
   "metadata": {},
   "source": [
    "## `Add` method"
   ]
  },
  {
   "cell_type": "markdown",
   "id": "32b68d02",
   "metadata": {},
   "source": [
    "WE use `add` to add one single element"
   ]
  },
  {
   "cell_type": "code",
   "execution_count": 5,
   "id": "14ceb1ac",
   "metadata": {},
   "outputs": [
    {
     "name": "stdout",
     "output_type": "stream",
     "text": [
      "{2, 5, 6, 7, 10}\n"
     ]
    }
   ],
   "source": [
    "a.add(10)\n",
    "print(a)"
   ]
  },
  {
   "cell_type": "markdown",
   "id": "593d59de",
   "metadata": {},
   "source": [
    "## `Update` Method"
   ]
  },
  {
   "cell_type": "markdown",
   "id": "b6b43a4e",
   "metadata": {},
   "source": [
    "Unlike `add`, `Update` can add multiple elements  "
   ]
  },
  {
   "cell_type": "code",
   "execution_count": null,
   "id": "bde69c91",
   "metadata": {},
   "outputs": [
    {
     "name": "stdout",
     "output_type": "stream",
     "text": [
      "{2, 5, 6, 7, 40, 10, 20, 30}\n"
     ]
    }
   ],
   "source": [
    "a.update([20,30,40])\n",
    "print(a)\n",
    "\n"
   ]
  },
  {
   "cell_type": "markdown",
   "id": "eca239c1",
   "metadata": {},
   "source": [
    "Also you can compine two sets using `update` "
   ]
  },
  {
   "cell_type": "code",
   "execution_count": 7,
   "id": "5671f76e",
   "metadata": {},
   "outputs": [
    {
     "name": "stdout",
     "output_type": "stream",
     "text": [
      "{1, 2, 5, 7, 8, 54}\n"
     ]
    }
   ],
   "source": [
    "a={1,2,5}\n",
    "b={54,2,5,7,8}\n",
    "a.update(b)\n",
    "print(a)"
   ]
  },
  {
   "cell_type": "markdown",
   "id": "42ed9f3f",
   "metadata": {},
   "source": [
    "# Removing Elements "
   ]
  },
  {
   "cell_type": "markdown",
   "id": "d7b9d8c5",
   "metadata": {},
   "source": [
    "There is two ways to remove elements for sets :\n",
    "\n",
    "1) remove an items using `remove` method . But it will give you and error if the item does not exist in the set.\n",
    "\n",
    "2) remove the item using `discard` method. And there is no error if the item does not exist. \n",
    "\n",
    "- Why we don't always use `discard` to avoid errors: some times you need to know if the elemnt in the list or not so we use remove in this case. "
   ]
  },
  {
   "cell_type": "markdown",
   "id": "b300af1c",
   "metadata": {},
   "source": [
    "## Remove"
   ]
  },
  {
   "cell_type": "code",
   "execution_count": 8,
   "id": "b4bf6f0b",
   "metadata": {},
   "outputs": [
    {
     "name": "stdout",
     "output_type": "stream",
     "text": [
      "{'apple', 'cherry'}\n"
     ]
    }
   ],
   "source": [
    "myset = {\"apple\",\"banana\",\"cherry\"}\n",
    "myset.remove(\"banana\")\n",
    "print(myset)"
   ]
  },
  {
   "cell_type": "code",
   "execution_count": 13,
   "id": "bd3c7a03",
   "metadata": {},
   "outputs": [],
   "source": [
    "# myset.remove(\"botato\")  / it will give you an error because botato is not in the set"
   ]
  },
  {
   "cell_type": "markdown",
   "id": "aa0b6c11",
   "metadata": {},
   "source": [
    "## Discard"
   ]
  },
  {
   "cell_type": "code",
   "execution_count": 10,
   "id": "2b386502",
   "metadata": {},
   "outputs": [
    {
     "name": "stdout",
     "output_type": "stream",
     "text": [
      "{'banana', 'apple'}\n"
     ]
    }
   ],
   "source": [
    "myset = {\"apple\",\"banana\",\"cherry\"}\n",
    "myset.discard(\"cherry\")\n",
    "print(myset)"
   ]
  },
  {
   "cell_type": "code",
   "execution_count": null,
   "id": "6ff7ab0f",
   "metadata": {},
   "outputs": [],
   "source": [
    "myset.discard(\"botato\") # it will not give you an error because botato is not in the set"
   ]
  },
  {
   "cell_type": "markdown",
   "id": "b94db699",
   "metadata": {},
   "source": [
    "# Checking Membership"
   ]
  },
  {
   "cell_type": "markdown",
   "id": "38f10db2",
   "metadata": {},
   "source": [
    "You can easly checking if the elements in the sets using `in`\n"
   ]
  },
  {
   "cell_type": "code",
   "execution_count": 16,
   "id": "5af5f3a1",
   "metadata": {},
   "outputs": [
    {
     "name": "stdout",
     "output_type": "stream",
     "text": [
      "True\n",
      "False\n"
     ]
    }
   ],
   "source": [
    "fruits = {\"apple\", \"banana\", \"orange\"}\n",
    "print(\"apple\" in fruits)   \n",
    "print(\"pear\" in fruits)    "
   ]
  },
  {
   "cell_type": "markdown",
   "id": "c3c2d9e9",
   "metadata": {},
   "source": [
    "# Set opertaions "
   ]
  },
  {
   "cell_type": "markdown",
   "id": "a282ad13",
   "metadata": {},
   "source": [
    "These operation is the main reason why we are using set because they help us in many applications. Set have mainly 4 opertions :\n",
    "\n",
    "1) Union: all unique elements from both sets\n",
    "2) intesection: elements common to both sets\n",
    "3) difference: elements in A but not in B\n",
    "4) Symetric difference: elements in A or B but not both\n"
   ]
  },
  {
   "cell_type": "code",
   "execution_count": 17,
   "id": "356e6558",
   "metadata": {},
   "outputs": [],
   "source": [
    "A = {1, 2, 3, 4}\n",
    "B = {3, 4, 5, 6}"
   ]
  },
  {
   "cell_type": "markdown",
   "id": "1dcc8ae1",
   "metadata": {},
   "source": [
    "## Union"
   ]
  },
  {
   "cell_type": "markdown",
   "id": "f80dd48a",
   "metadata": {},
   "source": [
    "We can use ` | ` operation or `Union` method"
   ]
  },
  {
   "cell_type": "code",
   "execution_count": null,
   "id": "9be52f91",
   "metadata": {},
   "outputs": [
    {
     "name": "stdout",
     "output_type": "stream",
     "text": [
      "{1, 2, 3, 4, 5, 6}\n",
      "{1, 2, 3, 4, 5, 6}\n"
     ]
    }
   ],
   "source": [
    "print(A | B)         \n",
    "print(A.union(B))"
   ]
  },
  {
   "cell_type": "markdown",
   "id": "8417fc82",
   "metadata": {},
   "source": [
    "## Intersection"
   ]
  },
  {
   "cell_type": "markdown",
   "id": "084a801b",
   "metadata": {},
   "source": [
    "We can use `&` operation or `intersection` method"
   ]
  },
  {
   "cell_type": "code",
   "execution_count": 19,
   "id": "a409cd1a",
   "metadata": {},
   "outputs": [
    {
     "name": "stdout",
     "output_type": "stream",
     "text": [
      "{3, 4}\n",
      "{3, 4}\n"
     ]
    }
   ],
   "source": [
    "print(A & B)          \n",
    "print(A.intersection(B))"
   ]
  },
  {
   "cell_type": "markdown",
   "id": "c44d10d8",
   "metadata": {},
   "source": [
    "## Difference"
   ]
  },
  {
   "cell_type": "markdown",
   "id": "a80eddaa",
   "metadata": {},
   "source": [
    "We can use `-` operation or `difference` method"
   ]
  },
  {
   "cell_type": "code",
   "execution_count": 20,
   "id": "fea50fef",
   "metadata": {},
   "outputs": [
    {
     "name": "stdout",
     "output_type": "stream",
     "text": [
      "{1, 2}\n",
      "{1, 2}\n"
     ]
    }
   ],
   "source": [
    "print(A - B)         \n",
    "print(A.difference(B))"
   ]
  },
  {
   "cell_type": "markdown",
   "id": "141cc02b",
   "metadata": {},
   "source": [
    "## Symmetric difference"
   ]
  },
  {
   "cell_type": "markdown",
   "id": "f3a0090f",
   "metadata": {},
   "source": [
    "We can use `^` operation or `symmetric_difference` method"
   ]
  },
  {
   "cell_type": "code",
   "execution_count": 21,
   "id": "d7c9f461",
   "metadata": {},
   "outputs": [
    {
     "name": "stdout",
     "output_type": "stream",
     "text": [
      "{1, 2, 5, 6}\n",
      "{1, 2, 5, 6}\n"
     ]
    }
   ],
   "source": [
    "print(A ^ B)          \n",
    "print(A.symmetric_difference(B))"
   ]
  },
  {
   "cell_type": "code",
   "execution_count": null,
   "id": "7584b78d",
   "metadata": {},
   "outputs": [],
   "source": []
  }
 ],
 "metadata": {
  "kernelspec": {
   "display_name": "Python 3",
   "language": "python",
   "name": "python3"
  },
  "language_info": {
   "codemirror_mode": {
    "name": "ipython",
    "version": 3
   },
   "file_extension": ".py",
   "mimetype": "text/x-python",
   "name": "python",
   "nbconvert_exporter": "python",
   "pygments_lexer": "ipython3",
   "version": "3.12.4"
  }
 },
 "nbformat": 4,
 "nbformat_minor": 5
}
