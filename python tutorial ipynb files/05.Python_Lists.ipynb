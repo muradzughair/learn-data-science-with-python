{
 "cells": [
  {
   "cell_type": "markdown",
   "id": "e09da414",
   "metadata": {},
   "source": [
    "# Python Lists"
   ]
  },
  {
   "cell_type": "markdown",
   "id": "dd164719",
   "metadata": {},
   "source": [
    "\n",
    "- Definition: Lists is a dynamic sized arrray (Automatically grows and shrinks)\n",
    "- List Can store all types of data (int, float, string, list, tuple, dictionary, set)\n",
    "- List can contain duplicate values\n",
    "- List is mutable (you can change it)\n",
    "- List Accessing is done by index (list[index])\n",
    "- (Append) is the the operation we use to add elements to the list\n",
    "- If you want to add element in specific position you can use (insert)\n",
    "- Extend is used to add multiple elements to the list\n",
    "- We use (pop) to remove elements by index and return this value\n",
    "- We use (remove) to remove elements by value"
   ]
  },
  {
   "cell_type": "markdown",
   "id": "16e813ab",
   "metadata": {},
   "source": [
    "## How to make Lists"
   ]
  },
  {
   "cell_type": "code",
   "execution_count": null,
   "id": "e15fce9e",
   "metadata": {},
   "outputs": [
    {
     "name": "stdout",
     "output_type": "stream",
     "text": [
      "<class 'list'>\n"
     ]
    }
   ],
   "source": [
    "a=[2,4,6,8,\"Bassam\",\"Data science\",[2,3,4]] \n",
    "print(type(a)) \n",
    "\n",
    "# you can make an empty list and fill it whenever you want:\n",
    "a_list=[]\n",
    "print(a_list) # Output: []\n",
    "# or\n",
    "a_list=list()\n"
   ]
  },
  {
   "cell_type": "markdown",
   "id": "024cad6d",
   "metadata": {},
   "source": [
    "## Elements Access"
   ]
  },
  {
   "cell_type": "markdown",
   "id": "7df0d946",
   "metadata": {},
   "source": [
    "To Access elements: variable[Index]"
   ]
  },
  {
   "cell_type": "code",
   "execution_count": 2,
   "id": "53255bf1",
   "metadata": {},
   "outputs": [
    {
     "name": "stdout",
     "output_type": "stream",
     "text": [
      "Bassam\n"
     ]
    }
   ],
   "source": [
    "print(a[4])"
   ]
  },
  {
   "cell_type": "markdown",
   "id": "5b6c02f2",
   "metadata": {},
   "source": [
    "And we can print lists elements one by one using loops:"
   ]
  },
  {
   "cell_type": "code",
   "execution_count": 3,
   "id": "1eda5d3d",
   "metadata": {},
   "outputs": [
    {
     "name": "stdout",
     "output_type": "stream",
     "text": [
      "2\n",
      "4\n",
      "6\n",
      "8\n",
      "Bassam\n",
      "Data science\n",
      "[2, 3, 4]\n"
     ]
    }
   ],
   "source": [
    "for i in range(len(a)) :\n",
    "    print(a[i])"
   ]
  },
  {
   "cell_type": "markdown",
   "id": "5b2ebe90",
   "metadata": {},
   "source": [
    "## Adding, Deleting,and Editing elements "
   ]
  },
  {
   "cell_type": "markdown",
   "id": "b8784964",
   "metadata": {},
   "source": [
    "### Adding elements"
   ]
  },
  {
   "cell_type": "markdown",
   "id": "5543157e",
   "metadata": {},
   "source": [
    "As I mention before we use append funciton to add elements to the list:"
   ]
  },
  {
   "cell_type": "code",
   "execution_count": 4,
   "id": "0d79229d",
   "metadata": {},
   "outputs": [
    {
     "name": "stdout",
     "output_type": "stream",
     "text": [
      "[2, 4, 6, 8, 'Bassam', 'Data science', [2, 3, 4], 'murad']\n"
     ]
    }
   ],
   "source": [
    "a.append(\"murad\")\n",
    "print(a)"
   ]
  },
  {
   "cell_type": "markdown",
   "id": "4e9e2929",
   "metadata": {},
   "source": [
    "And this how we add multipule elements to the list using extend:"
   ]
  },
  {
   "cell_type": "code",
   "execution_count": 5,
   "id": "36cbaa60",
   "metadata": {},
   "outputs": [
    {
     "name": "stdout",
     "output_type": "stream",
     "text": [
      "[2, 4, 6, 8, 'Bassam', 'Data science', [2, 3, 4], 'murad', 2, 3, 4]\n"
     ]
    }
   ],
   "source": [
    "a.extend([2,3,4]) # It will add 2,3,4\n",
    "print(a)"
   ]
  },
  {
   "cell_type": "markdown",
   "id": "c1e5c320",
   "metadata": {},
   "source": [
    "``Note``: if you use extend  to add string value it will be added as char because string is a array of char\n"
   ]
  },
  {
   "cell_type": "code",
   "execution_count": 6,
   "id": "abe5ac32",
   "metadata": {},
   "outputs": [
    {
     "name": "stdout",
     "output_type": "stream",
     "text": [
      "[2, 4, 6, 8, 'Bassam', 'Data science', [2, 3, 4], 'murad', 2, 3, 4, 'm', 'u', 'r', 'a', 'd']\n"
     ]
    }
   ],
   "source": [
    "a.extend('murad')\n",
    "print(a) "
   ]
  },
  {
   "cell_type": "markdown",
   "id": "160b9450",
   "metadata": {},
   "source": [
    "### Removing elemetns"
   ]
  },
  {
   "cell_type": "markdown",
   "id": "815d24de",
   "metadata": {},
   "source": [
    "We use (pop) and (remove) functions to delete elements"
   ]
  },
  {
   "cell_type": "code",
   "execution_count": 7,
   "id": "ff707d91",
   "metadata": {},
   "outputs": [
    {
     "name": "stdout",
     "output_type": "stream",
     "text": [
      "[2, 4, 6, 8, 'Bassam', 'Data science', [2, 3, 4], 'murad', 2, 3, 4, 'm', 'u', 'r', 'a', 'd']\n",
      "[2, 6, 8, 'Data science', [2, 3, 4], 'murad', 2, 3, 4, 'm', 'u', 'r', 'a', 'd']\n"
     ]
    }
   ],
   "source": [
    "print(a)\n",
    "a.pop(1) # It will remove the element at index 1\n",
    "a.remove(\"Bassam\") # It will remove the element with value \"Bassam\"\n",
    "print(a)"
   ]
  },
  {
   "cell_type": "markdown",
   "id": "6bb75a91",
   "metadata": {},
   "source": [
    "## List operations"
   ]
  },
  {
   "cell_type": "code",
   "execution_count": 8,
   "id": "ddfe7b49",
   "metadata": {},
   "outputs": [],
   "source": [
    "a1=[1,2,3]\n",
    "b1=[4,6,7]"
   ]
  },
  {
   "cell_type": "markdown",
   "id": "17f77b34",
   "metadata": {},
   "source": [
    "We can combine list"
   ]
  },
  {
   "cell_type": "code",
   "execution_count": 10,
   "id": "0030d17d",
   "metadata": {},
   "outputs": [
    {
     "name": "stdout",
     "output_type": "stream",
     "text": [
      "[1, 2, 3, 4, 6, 7]\n"
     ]
    }
   ],
   "source": [
    "\n",
    "c1=a1+b1 # It will combine two lists\n",
    "print(c1)"
   ]
  },
  {
   "cell_type": "markdown",
   "id": "d7f65457",
   "metadata": {},
   "source": [
    "``Note``: we can use extend to combine elements"
   ]
  },
  {
   "cell_type": "code",
   "execution_count": 11,
   "id": "b063dcdb",
   "metadata": {},
   "outputs": [
    {
     "name": "stdout",
     "output_type": "stream",
     "text": [
      "[1, 2, 3, 4, 6, 7]\n"
     ]
    }
   ],
   "source": [
    "a1 = [1,2,3]\n",
    "b1 = [4,6,7]\n",
    "\n",
    "a1.extend(b1)  \n",
    "print(a1)  # Output: [1, 2, 3, 4, 6, 7]"
   ]
  },
  {
   "cell_type": "markdown",
   "id": "5cf39639",
   "metadata": {},
   "source": [
    "## List comptehantion"
   ]
  },
  {
   "cell_type": "markdown",
   "id": "3a0070a9",
   "metadata": {},
   "source": [
    "List comprehantion is a way to create lists in a more concise and readable manner.\n",
    "\n",
    "``List comprehension structuer: [variable for variable in iterable if condition]``\n"
   ]
  },
  {
   "cell_type": "code",
   "execution_count": 12,
   "id": "112cfb4d",
   "metadata": {},
   "outputs": [
    {
     "name": "stdout",
     "output_type": "stream",
     "text": [
      "[1, 2, 3, 4]\n"
     ]
    }
   ],
   "source": [
    "lst=[value for value in range(1,5)] # this is list comprehantion\n",
    "print(lst) "
   ]
  },
  {
   "cell_type": "markdown",
   "id": "6baa0696",
   "metadata": {},
   "source": [
    "### List comprehantion Examples"
   ]
  },
  {
   "cell_type": "markdown",
   "id": "e2b5f2d6",
   "metadata": {},
   "source": [
    "Eample 1 : Check if a character is in a string and create a new list with those characters:\n"
   ]
  },
  {
   "cell_type": "markdown",
   "id": "7a722b29",
   "metadata": {},
   "source": [
    "Case 1 : without list comprehantion:"
   ]
  },
  {
   "cell_type": "code",
   "execution_count": 13,
   "id": "9e9eeb08",
   "metadata": {},
   "outputs": [
    {
     "name": "stdout",
     "output_type": "stream",
     "text": [
      "['apple', 'bannana', 'mangi']\n"
     ]
    }
   ],
   "source": [
    "f=['apple' , 'bannana','cherry','mangi','kiwi']\n",
    "newlst=[]\n",
    "\n",
    "for i in f:    # We use (in) to check all the element in the list\n",
    "    if 'a' in i:\n",
    "        newlst.append(i)\n",
    "print(newlst) "
   ]
  },
  {
   "cell_type": "markdown",
   "id": "342e15d5",
   "metadata": {},
   "source": [
    "Case 2 : with list comprehanciton (Better):"
   ]
  },
  {
   "cell_type": "code",
   "execution_count": 14,
   "id": "abd128a1",
   "metadata": {},
   "outputs": [
    {
     "name": "stdout",
     "output_type": "stream",
     "text": [
      "['apple', 'bannana', 'mangi']\n"
     ]
    }
   ],
   "source": [
    "my_lst=[item for item in f if 'a' in item]\n",
    "print(my_lst) "
   ]
  },
  {
   "cell_type": "markdown",
   "id": "d4d06a7b",
   "metadata": {},
   "source": [
    "\n",
    "Example (2):Create a new list that contains the numbers that greater than 5 from the original list:"
   ]
  },
  {
   "cell_type": "code",
   "execution_count": 15,
   "id": "b1ba0b0c",
   "metadata": {},
   "outputs": [
    {
     "name": "stdout",
     "output_type": "stream",
     "text": [
      "[6, 8, 11]\n"
     ]
    }
   ],
   "source": [
    "original_lst=[2,4,6,8,11,5]\n",
    "new_lst=[value for value in original_lst if value>5]\n",
    "print(new_lst)"
   ]
  },
  {
   "cell_type": "code",
   "execution_count": null,
   "id": "77b44340",
   "metadata": {},
   "outputs": [],
   "source": []
  }
 ],
 "metadata": {
  "kernelspec": {
   "display_name": "Python 3",
   "language": "python",
   "name": "python3"
  },
  "language_info": {
   "codemirror_mode": {
    "name": "ipython",
    "version": 3
   },
   "file_extension": ".py",
   "mimetype": "text/x-python",
   "name": "python",
   "nbconvert_exporter": "python",
   "pygments_lexer": "ipython3",
   "version": "3.12.4"
  }
 },
 "nbformat": 4,
 "nbformat_minor": 5
}
