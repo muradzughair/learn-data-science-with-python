{
 "cells": [
  {
   "cell_type": "markdown",
   "id": "4e1a8aed",
   "metadata": {},
   "source": [
    "# 🔁 Python Loops"
   ]
  },
  {
   "cell_type": "markdown",
   "id": "47574f89",
   "metadata": {},
   "source": [
    "## `For` loop "
   ]
  },
  {
   "cell_type": "markdown",
   "id": "927d1ffe",
   "metadata": {},
   "source": [
    "### 🔸 a) `range()` Function"
   ]
  },
  {
   "cell_type": "markdown",
   "id": "f5dab10a",
   "metadata": {},
   "source": [
    "The range() function is one of the most important functions used in loops. It defines the number of iterations the loop will execute."
   ]
  },
  {
   "cell_type": "code",
   "execution_count": 1,
   "id": "1b7fcce9",
   "metadata": {},
   "outputs": [
    {
     "name": "stdout",
     "output_type": "stream",
     "text": [
      "[1, 2, 3, 4]\n"
     ]
    }
   ],
   "source": [
    "print(list(range(1, 5))) "
   ]
  },
  {
   "cell_type": "markdown",
   "id": "cdd7fa21",
   "metadata": {},
   "source": [
    "### 🔸 b) `for` Loop with `range()`"
   ]
  },
  {
   "cell_type": "markdown",
   "id": "60aee843",
   "metadata": {},
   "source": [
    "In Python, a loop works like this: there is a variable (commonly i), and there is an iterable, such as a list or a range() object. On each iteration, the variable takes the next value from the iterable."
   ]
  },
  {
   "cell_type": "code",
   "execution_count": 9,
   "id": "c66cbbd7",
   "metadata": {},
   "outputs": [
    {
     "name": "stdout",
     "output_type": "stream",
     "text": [
      "0 1 2 3 4 \n",
      "h i   m o h a m m e d "
     ]
    }
   ],
   "source": [
    "for i in range(5):\n",
    "    print(i, end=' ')\n",
    "\n",
    "print()  # New line for better readability\n",
    "\n",
    "name = \"hi mohammed\"\n",
    "for char in name:\n",
    "    print(char  , end=' ')"
   ]
  },
  {
   "cell_type": "markdown",
   "id": "93836eaa",
   "metadata": {},
   "source": [
    "### 🔸 d) Nested Loops"
   ]
  },
  {
   "cell_type": "code",
   "execution_count": 4,
   "id": "029bfdf3",
   "metadata": {},
   "outputs": [
    {
     "name": "stdout",
     "output_type": "stream",
     "text": [
      "1 * 1 = 1\n",
      "1 * 2 = 2\n",
      "1 * 3 = 3\n",
      "2 * 1 = 2\n",
      "2 * 2 = 4\n",
      "2 * 3 = 6\n",
      "3 * 1 = 3\n",
      "3 * 2 = 6\n",
      "3 * 3 = 9\n"
     ]
    }
   ],
   "source": [
    "for i in range(1, 4):\n",
    "    for j in range(1, 4):\n",
    "        print(f\"{i} * {j} = {i * j}\")"
   ]
  },
  {
   "cell_type": "markdown",
   "id": "b6f36094",
   "metadata": {},
   "source": [
    "## `while` Loop "
   ]
  },
  {
   "cell_type": "markdown",
   "id": "9e0ec0f7",
   "metadata": {},
   "source": [
    "\"repeating action until condition is met\"\n",
    "Example\n",
    "Error starts at 50\n",
    "Divide error by 4 on every run\n",
    "Continue until error no longer > 1"
   ]
  },
  {
   "cell_type": "code",
   "execution_count": null,
   "id": "de912138",
   "metadata": {},
   "outputs": [],
   "source": [
    "error = 50.0\n",
    "while error > 1:\n",
    "    error = error / 4\n",
    "    print(error)"
   ]
  },
  {
   "cell_type": "markdown",
   "id": "912a3f54",
   "metadata": {},
   "source": [
    "### 🔸continue and break function"
   ]
  },
  {
   "cell_type": "markdown",
   "id": "ffd507d5",
   "metadata": {},
   "source": [
    "| Keyword    | What it Does                                                  | When to Use                                                     |\n",
    "| ---------- | ------------------------------------------------------------- | --------------------------------------------------------------- |\n",
    "| `continue` | Skips the **current iteration** and moves to the **next one** | When you want to ignore certain cases but keep looping          |\n",
    "| `break`    | Exits the **entire loop** immediately                         | When you want to **stop the loop completely** under a condition |\n"
   ]
  },
  {
   "cell_type": "markdown",
   "id": "da58977b",
   "metadata": {},
   "source": [
    "#### continue"
   ]
  },
  {
   "cell_type": "code",
   "execution_count": null,
   "id": "2e4a7139",
   "metadata": {},
   "outputs": [
    {
     "name": "stdout",
     "output_type": "stream",
     "text": [
      "Total: 504\n"
     ]
    }
   ],
   "source": [
    "for i in range(5):\n",
    "    if i == 2:\n",
    "        continue\n",
    "    print(i)\n"
   ]
  },
  {
   "cell_type": "markdown",
   "id": "623201be",
   "metadata": {},
   "source": [
    "#### break"
   ]
  },
  {
   "cell_type": "code",
   "execution_count": null,
   "id": "2b0ddee5",
   "metadata": {},
   "outputs": [
    {
     "name": "stdout",
     "output_type": "stream",
     "text": [
      "Odd: 1\n",
      "Odd: 3\n",
      "Odd: 5\n",
      "Odd: 7\n",
      "Odd: 9\n"
     ]
    }
   ],
   "source": [
    "for i in range(5):\n",
    "    if i == 2:\n",
    "        break\n",
    "    print(i)\n"
   ]
  }
 ],
 "metadata": {
  "kernelspec": {
   "display_name": "Python 3",
   "language": "python",
   "name": "python3"
  },
  "language_info": {
   "codemirror_mode": {
    "name": "ipython",
    "version": 3
   },
   "file_extension": ".py",
   "mimetype": "text/x-python",
   "name": "python",
   "nbconvert_exporter": "python",
   "pygments_lexer": "ipython3",
   "version": "3.12.4"
  }
 },
 "nbformat": 4,
 "nbformat_minor": 5
}
